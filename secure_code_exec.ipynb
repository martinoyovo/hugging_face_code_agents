{
 "cells": [
  {
   "cell_type": "markdown",
   "id": "be3367aa-0368-446b-93af-fc6eb88dab96",
   "metadata": {},
   "source": [
    "## Show behavior of custom python interpreter"
   ]
  },
  {
   "cell_type": "code",
   "execution_count": 48,
   "id": "f9ff70b6-24a5-4063-aad8-74ca6f599b9e",
   "metadata": {
    "height": 64
   },
   "outputs": [],
   "source": [
    "from smolagents.local_python_executor import LocalPythonExecutor\n",
    "\n",
    "custom_executor = LocalPythonExecutor([\"numpy\"])"
   ]
  },
  {
   "cell_type": "code",
   "execution_count": 27,
   "id": "41d1ce58-9d2e-4349-acbd-49227e37d31c",
   "metadata": {
    "height": 98
   },
   "outputs": [],
   "source": [
    "def run_capture_exception(command: str):\n",
    "    try:\n",
    "        custom_executor(harmful_command)\n",
    "    except Exception as e:\n",
    "        print(\"ERROR:\\n\", e)"
   ]
  },
  {
   "cell_type": "code",
   "execution_count": 28,
   "id": "0f171b23-b3cc-48c9-a8ba-07358e271e63",
   "metadata": {
    "height": 64
   },
   "outputs": [
    {
     "name": "stdout",
     "output_type": "stream",
     "text": [
      "Bad command\n"
     ]
    }
   ],
   "source": [
    "# Example 1: non-defined command\n",
    "# In Jupyter it works\n",
    "!echo Bad command"
   ]
  },
  {
   "cell_type": "code",
   "execution_count": 29,
   "id": "9e00efd4-d48d-4dac-b629-ab6a4c198b73",
   "metadata": {
    "height": 64
   },
   "outputs": [
    {
     "name": "stdout",
     "output_type": "stream",
     "text": [
      "ERROR:\n",
      " Code parsing failed on line 1 due to: SyntaxError\n",
      "!echo Bad command\n",
      " ^\n",
      "Error: invalid syntax (<unknown>, line 1)\n"
     ]
    }
   ],
   "source": [
    "# In our interpreter, it does not.\n",
    "harmful_command=\"!echo Bad command\"\n",
    "run_capture_exception(harmful_command)"
   ]
  },
  {
   "cell_type": "code",
   "execution_count": 30,
   "id": "be89931a-7150-47c9-8885-97a89f758430",
   "metadata": {
    "height": 251
   },
   "outputs": [
    {
     "data": {
      "text/plain": [
       "['re',\n",
       " 'queue',\n",
       " 'random',\n",
       " 'statistics',\n",
       " 'unicodedata',\n",
       " 'itertools',\n",
       " 'math',\n",
       " 'stat',\n",
       " 'time',\n",
       " 'datetime',\n",
       " 'collections',\n",
       " 'numpy']"
      ]
     },
     "execution_count": 30,
     "metadata": {},
     "output_type": "execute_result"
    }
   ],
   "source": [
    "[\n",
    "    're',\n",
    "    'queue',\n",
    "    'random',\n",
    "    'statistics',\n",
    "    'unicodedata',\n",
    "    'itertools',\n",
    "    'math',\n",
    "    'stat',\n",
    "    'time',\n",
    "    'datetime',\n",
    "    'collections',\n",
    "    'numpy'\n",
    "]"
   ]
  },
  {
   "cell_type": "code",
   "execution_count": 54,
   "id": "cc73aa25-f14b-46d8-9a4d-10591f53d361",
   "metadata": {
    "height": 115
   },
   "outputs": [
    {
     "name": "stdout",
     "output_type": "stream",
     "text": [
      "ERROR:\n",
      " Code execution failed at line 'import os' due to: InterpreterError: Import of os is not allowed. Authorized imports are: ['random', 'time', 'queue', 'itertools', 'datetime', 'statistics', 'numpy', 'unicodedata', 'stat', 'math', 're', 'collections']\n"
     ]
    }
   ],
   "source": [
    "# Example 2: os not imported\n",
    "harmful_command=\"\"\"\n",
    "import os\n",
    "exit_code = os.system(\"echo Bad command\")\n",
    "\"\"\"\n",
    "run_capture_exception(harmful_command)"
   ]
  },
  {
   "cell_type": "code",
   "execution_count": 35,
   "id": "24a1fcb0-2642-45c3-804d-59d3ca4df491",
   "metadata": {
    "height": 115
   },
   "outputs": [
    {
     "name": "stdout",
     "output_type": "stream",
     "text": [
      "ERROR:\n",
      " Code execution failed at line 'random._os.system('echo Bad command')' due to: InterpreterError: Forbidden access to module: os\n"
     ]
    }
   ],
   "source": [
    "# Example 3: random._os.system not imported\n",
    "harmful_command=\"\"\"\n",
    "import random\n",
    "random._os.system('echo Bad command')\n",
    "\"\"\"\n",
    "run_capture_exception(harmful_command)"
   ]
  },
  {
   "cell_type": "code",
   "execution_count": 55,
   "id": "0c5e88e2-630c-497b-842a-f1c694a1af56",
   "metadata": {
    "height": 115
   },
   "outputs": [
    {
     "name": "stdout",
     "output_type": "stream",
     "text": [
      "ERROR:\n",
      " Code execution failed at line 'while True:\n",
      "    pass' due to: InterpreterError: Maximum number of 1000000 iterations in While loop exceeded\n"
     ]
    }
   ],
   "source": [
    "# Example 4: infinite loop\n",
    "harmful_command=\"\"\"\n",
    "while True:\n",
    "    pass\n",
    "\"\"\"\n",
    "run_capture_exception(harmful_command)"
   ]
  },
  {
   "cell_type": "code",
   "execution_count": 37,
   "id": "5d99f222-b67b-4eb9-b335-952b3b7a05dd",
   "metadata": {
    "height": 266
   },
   "outputs": [],
   "source": [
    "custom_executor = LocalPythonExecutor([\"PIL\"])\n",
    "\n",
    "harmful_command=\"\"\"\n",
    "from PIL import Image\n",
    "\n",
    "img = Image.new('RGB', (100, 100), color='blue')\n",
    "\n",
    "i=0\n",
    "while i < 10000:\n",
    "    img.save('simple_image_{i}.png')\n",
    "    i += 1\n",
    "\"\"\"\n",
    "# custom_executor(harmful_command)\n",
    "# Let's not execute this but it would not error out, and it would bloat your system with images."
   ]
  },
  {
   "cell_type": "markdown",
   "id": "d62ae77b-6140-4c6c-9eaa-2b2ac99a9d09",
   "metadata": {},
   "source": [
    "## Running in a sandbox"
   ]
  },
  {
   "cell_type": "code",
   "execution_count": 57,
   "id": "05d52fa7-b538-4400-a342-224e6759c5eb",
   "metadata": {
    "height": 98
   },
   "outputs": [],
   "source": [
    "import os\n",
    "from dotenv import load_dotenv\n",
    "load_dotenv()\n",
    "\n",
    "E2B_API_KEY = os.getenv(\"E2B_API_KEY\")"
   ]
  },
  {
   "cell_type": "code",
   "execution_count": 63,
   "id": "cbf486ce-2aa6-4133-a421-c6dbd7fe0f9f",
   "metadata": {
    "height": 963
   },
   "outputs": [
    {
     "data": {
      "text/html": [
       "<pre style=\"white-space:pre;overflow-x:auto;line-height:normal;font-family:Menlo,'DejaVu Sans Mono',consolas,'Courier New',monospace\">Initializing executor, hold on<span style=\"color: #808000; text-decoration-color: #808000\">...</span>\n",
       "</pre>\n"
      ],
      "text/plain": [
       "Initializing executor, hold on\u001b[33m...\u001b[0m\n"
      ]
     },
     "metadata": {},
     "output_type": "display_data"
    },
    {
     "ename": "ModuleNotFoundError",
     "evalue": "Please install 'e2b' extra to use E2BExecutor: `pip install 'smolagents[e2b]'`",
     "output_type": "error",
     "traceback": [
      "\u001b[0;31m---------------------------------------------------------------------------\u001b[0m",
      "\u001b[0;31mModuleNotFoundError\u001b[0m                       Traceback (most recent call last)",
      "File \u001b[0;32m~/.pyenv/versions/huggingface/lib/python3.10/site-packages/smolagents/remote_executors.py:108\u001b[0m, in \u001b[0;36mE2BExecutor.__init__\u001b[0;34m(self, additional_imports, logger, **kwargs)\u001b[0m\n\u001b[1;32m    107\u001b[0m \u001b[38;5;28;01mtry\u001b[39;00m:\n\u001b[0;32m--> 108\u001b[0m     \u001b[38;5;28;01mfrom\u001b[39;00m\u001b[38;5;250m \u001b[39m\u001b[38;5;21;01me2b_code_interpreter\u001b[39;00m\u001b[38;5;250m \u001b[39m\u001b[38;5;28;01mimport\u001b[39;00m Sandbox\n\u001b[1;32m    109\u001b[0m \u001b[38;5;28;01mexcept\u001b[39;00m \u001b[38;5;167;01mModuleNotFoundError\u001b[39;00m:\n",
      "\u001b[0;31mModuleNotFoundError\u001b[0m: No module named 'e2b_code_interpreter'",
      "\nDuring handling of the above exception, another exception occurred:\n",
      "\u001b[0;31mModuleNotFoundError\u001b[0m                       Traceback (most recent call last)",
      "Cell \u001b[0;32mIn[63], line 49\u001b[0m\n\u001b[1;32m     46\u001b[0m         \u001b[38;5;28;01mexcept\u001b[39;00m \u001b[38;5;167;01mException\u001b[39;00m \u001b[38;5;28;01mas\u001b[39;00m e:\n\u001b[1;32m     47\u001b[0m             \u001b[38;5;28;01mreturn\u001b[39;00m \u001b[38;5;124mf\u001b[39m\u001b[38;5;124m\"\u001b[39m\u001b[38;5;124mAn unexpected error occurred: \u001b[39m\u001b[38;5;132;01m{\u001b[39;00m\u001b[38;5;28mstr\u001b[39m(e)\u001b[38;5;132;01m}\u001b[39;00m\u001b[38;5;124m\"\u001b[39m\n\u001b[0;32m---> 49\u001b[0m agent \u001b[38;5;241m=\u001b[39m \u001b[43mCodeAgent\u001b[49m\u001b[43m(\u001b[49m\n\u001b[1;32m     50\u001b[0m \u001b[43m    \u001b[49m\u001b[43mtools\u001b[49m\u001b[38;5;241;43m=\u001b[39;49m\u001b[43m[\u001b[49m\u001b[43mVisitWebpageTool\u001b[49m\u001b[43m(\u001b[49m\u001b[43m)\u001b[49m\u001b[43m]\u001b[49m\u001b[43m,\u001b[49m\n\u001b[1;32m     51\u001b[0m \u001b[43m    \u001b[49m\u001b[43mmodel\u001b[49m\u001b[38;5;241;43m=\u001b[39;49m\u001b[43mmodel\u001b[49m\u001b[43m,\u001b[49m\n\u001b[1;32m     52\u001b[0m \u001b[43m    \u001b[49m\u001b[43mexecutor_type\u001b[49m\u001b[38;5;241;43m=\u001b[39;49m\u001b[38;5;124;43m\"\u001b[39;49m\u001b[38;5;124;43me2b\u001b[39;49m\u001b[38;5;124;43m\"\u001b[39;49m\u001b[43m,\u001b[49m\n\u001b[1;32m     53\u001b[0m \u001b[43m    \u001b[49m\u001b[43mexecutor_kwargs\u001b[49m\u001b[38;5;241;43m=\u001b[39;49m\u001b[43m{\u001b[49m\u001b[38;5;124;43m\"\u001b[39;49m\u001b[38;5;124;43mapi_key\u001b[39;49m\u001b[38;5;124;43m\"\u001b[39;49m\u001b[43m:\u001b[49m\u001b[43m \u001b[49m\u001b[43mE2B_API_KEY\u001b[49m\u001b[43m}\u001b[49m\u001b[43m,\u001b[49m\n\u001b[1;32m     54\u001b[0m \u001b[43m    \u001b[49m\u001b[43mmax_steps\u001b[49m\u001b[38;5;241;43m=\u001b[39;49m\u001b[38;5;241;43m5\u001b[39;49m\n\u001b[1;32m     55\u001b[0m \u001b[43m)\u001b[49m\n",
      "File \u001b[0;32m~/.pyenv/versions/huggingface/lib/python3.10/site-packages/smolagents/agents.py:1241\u001b[0m, in \u001b[0;36mCodeAgent.__init__\u001b[0;34m(self, tools, model, prompt_templates, grammar, additional_authorized_imports, planning_interval, executor_type, executor_kwargs, max_print_outputs_length, stream_outputs, **kwargs)\u001b[0m\n\u001b[1;32m   1239\u001b[0m \u001b[38;5;28mself\u001b[39m\u001b[38;5;241m.\u001b[39mexecutor_type \u001b[38;5;241m=\u001b[39m executor_type \u001b[38;5;129;01mor\u001b[39;00m \u001b[38;5;124m\"\u001b[39m\u001b[38;5;124mlocal\u001b[39m\u001b[38;5;124m\"\u001b[39m\n\u001b[1;32m   1240\u001b[0m \u001b[38;5;28mself\u001b[39m\u001b[38;5;241m.\u001b[39mexecutor_kwargs \u001b[38;5;241m=\u001b[39m executor_kwargs \u001b[38;5;129;01mor\u001b[39;00m {}\n\u001b[0;32m-> 1241\u001b[0m \u001b[38;5;28mself\u001b[39m\u001b[38;5;241m.\u001b[39mpython_executor \u001b[38;5;241m=\u001b[39m \u001b[38;5;28;43mself\u001b[39;49m\u001b[38;5;241;43m.\u001b[39;49m\u001b[43mcreate_python_executor\u001b[49m\u001b[43m(\u001b[49m\u001b[43m)\u001b[49m\n",
      "File \u001b[0;32m~/.pyenv/versions/huggingface/lib/python3.10/site-packages/smolagents/agents.py:1249\u001b[0m, in \u001b[0;36mCodeAgent.create_python_executor\u001b[0;34m(self)\u001b[0m\n\u001b[1;32m   1247\u001b[0m     \u001b[38;5;28;01mraise\u001b[39;00m \u001b[38;5;167;01mException\u001b[39;00m(\u001b[38;5;124m\"\u001b[39m\u001b[38;5;124mManaged agents are not yet supported with remote code execution.\u001b[39m\u001b[38;5;124m\"\u001b[39m)\n\u001b[1;32m   1248\u001b[0m \u001b[38;5;28;01mif\u001b[39;00m \u001b[38;5;28mself\u001b[39m\u001b[38;5;241m.\u001b[39mexecutor_type \u001b[38;5;241m==\u001b[39m \u001b[38;5;124m\"\u001b[39m\u001b[38;5;124me2b\u001b[39m\u001b[38;5;124m\"\u001b[39m:\n\u001b[0;32m-> 1249\u001b[0m     \u001b[38;5;28;01mreturn\u001b[39;00m \u001b[43mE2BExecutor\u001b[49m\u001b[43m(\u001b[49m\u001b[38;5;28;43mself\u001b[39;49m\u001b[38;5;241;43m.\u001b[39;49m\u001b[43madditional_authorized_imports\u001b[49m\u001b[43m,\u001b[49m\u001b[43m \u001b[49m\u001b[38;5;28;43mself\u001b[39;49m\u001b[38;5;241;43m.\u001b[39;49m\u001b[43mlogger\u001b[49m\u001b[43m,\u001b[49m\u001b[43m \u001b[49m\u001b[38;5;241;43m*\u001b[39;49m\u001b[38;5;241;43m*\u001b[39;49m\u001b[38;5;28;43mself\u001b[39;49m\u001b[38;5;241;43m.\u001b[39;49m\u001b[43mexecutor_kwargs\u001b[49m\u001b[43m)\u001b[49m\n\u001b[1;32m   1250\u001b[0m \u001b[38;5;28;01melse\u001b[39;00m:\n\u001b[1;32m   1251\u001b[0m     \u001b[38;5;28;01mreturn\u001b[39;00m DockerExecutor(\u001b[38;5;28mself\u001b[39m\u001b[38;5;241m.\u001b[39madditional_authorized_imports, \u001b[38;5;28mself\u001b[39m\u001b[38;5;241m.\u001b[39mlogger, \u001b[38;5;241m*\u001b[39m\u001b[38;5;241m*\u001b[39m\u001b[38;5;28mself\u001b[39m\u001b[38;5;241m.\u001b[39mexecutor_kwargs)\n",
      "File \u001b[0;32m~/.pyenv/versions/huggingface/lib/python3.10/site-packages/smolagents/remote_executors.py:110\u001b[0m, in \u001b[0;36mE2BExecutor.__init__\u001b[0;34m(self, additional_imports, logger, **kwargs)\u001b[0m\n\u001b[1;32m    108\u001b[0m     \u001b[38;5;28;01mfrom\u001b[39;00m\u001b[38;5;250m \u001b[39m\u001b[38;5;21;01me2b_code_interpreter\u001b[39;00m\u001b[38;5;250m \u001b[39m\u001b[38;5;28;01mimport\u001b[39;00m Sandbox\n\u001b[1;32m    109\u001b[0m \u001b[38;5;28;01mexcept\u001b[39;00m \u001b[38;5;167;01mModuleNotFoundError\u001b[39;00m:\n\u001b[0;32m--> 110\u001b[0m     \u001b[38;5;28;01mraise\u001b[39;00m \u001b[38;5;167;01mModuleNotFoundError\u001b[39;00m(\n\u001b[1;32m    111\u001b[0m \u001b[38;5;250m        \u001b[39m\u001b[38;5;124;03m\"\"\"Please install 'e2b' extra to use E2BExecutor: `pip install 'smolagents[e2b]'`\"\"\"\u001b[39;00m\n\u001b[1;32m    112\u001b[0m     )\n\u001b[1;32m    113\u001b[0m \u001b[38;5;28mself\u001b[39m\u001b[38;5;241m.\u001b[39msandbox \u001b[38;5;241m=\u001b[39m Sandbox(\u001b[38;5;241m*\u001b[39m\u001b[38;5;241m*\u001b[39mkwargs)\n\u001b[1;32m    114\u001b[0m \u001b[38;5;28mself\u001b[39m\u001b[38;5;241m.\u001b[39minstalled_packages \u001b[38;5;241m=\u001b[39m \u001b[38;5;28mself\u001b[39m\u001b[38;5;241m.\u001b[39minstall_packages(additional_imports)\n",
      "\u001b[0;31mModuleNotFoundError\u001b[0m: Please install 'e2b' extra to use E2BExecutor: `pip install 'smolagents[e2b]'`"
     ]
    }
   ],
   "source": [
    "from smolagents import CodeAgent, HfApiModel, Tool\n",
    "\n",
    "model = HfApiModel()\n",
    "\n",
    "class VisitWebpageTool(Tool):\n",
    "    name = \"visit_webpage\"\n",
    "    description = (\n",
    "        \"Visits a webpage at the given url and reads its content as a markdown string. Use this to browse webpages.\"\n",
    "    )\n",
    "    inputs = {\n",
    "        \"url\": {\n",
    "            \"type\": \"string\",\n",
    "            \"description\": \"The url of the webpage to visit.\",\n",
    "        }\n",
    "    }\n",
    "    output_type = \"string\"\n",
    "\n",
    "    def __init__(self, max_output_length: int = 40000):\n",
    "        super().__init__()\n",
    "        self.max_output_length = max_output_length\n",
    "\n",
    "    def forward(self, url: str) -> str:\n",
    "        try:\n",
    "            import re\n",
    "\n",
    "            import requests\n",
    "            from markdownify import markdownify\n",
    "            from requests.exceptions import RequestException\n",
    "\n",
    "            from smolagents.utils import truncate_content\n",
    "        except ImportError as e:\n",
    "            raise ImportError(\n",
    "                \"You must install packages `markdownify` and `requests` to run this tool: for instance run `pip install markdownify requests`.\"\n",
    "            ) from e\n",
    "        try:\n",
    "            response = requests.get(url, timeout=20)\n",
    "            response.raise_for_status()  # Raise an exception for bad status codes\n",
    "            markdown_content = markdownify(response.text).strip()\n",
    "            markdown_content = re.sub(r\"\\n{3,}\", \"\\n\\n\", markdown_content)\n",
    "            return truncate_content(markdown_content, self.max_output_length)\n",
    "\n",
    "        except requests.exceptions.Timeout:\n",
    "            return \"The request timed out. Please try again later or check the URL.\"\n",
    "        except RequestException as e:\n",
    "            return f\"Error fetching the webpage: {str(e)}\"\n",
    "        except Exception as e:\n",
    "            return f\"An unexpected error occurred: {str(e)}\"\n",
    "\n",
    "agent = CodeAgent(\n",
    "    tools=[VisitWebpageTool()],\n",
    "    model=model,\n",
    "    executor_type=\"e2b\",\n",
    "    executor_kwargs={\"api_key\": E2B_API_KEY},\n",
    "    max_steps=5\n",
    ")"
   ]
  },
  {
   "cell_type": "code",
   "execution_count": null,
   "id": "b43e76e3-c84d-4e19-8115-9c208f7c3398",
   "metadata": {
    "height": 81
   },
   "outputs": [],
   "source": [
    "output = agent.run(\n",
    "    \"Give me one of the top github repos from organization huggingface.\"\n",
    ")\n",
    "print(\"E2B executor result:\", output)"
   ]
  }
 ],
 "metadata": {
  "kernelspec": {
   "display_name": "huggingface",
   "language": "python",
   "name": "python3"
  },
  "language_info": {
   "codemirror_mode": {
    "name": "ipython",
    "version": 3
   },
   "file_extension": ".py",
   "mimetype": "text/x-python",
   "name": "python",
   "nbconvert_exporter": "python",
   "pygments_lexer": "ipython3",
   "version": "3.10.3"
  }
 },
 "nbformat": 4,
 "nbformat_minor": 5
}
