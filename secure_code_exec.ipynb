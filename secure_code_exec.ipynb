{
 "cells": [
  {
   "cell_type": "markdown",
   "id": "be3367aa-0368-446b-93af-fc6eb88dab96",
   "metadata": {},
   "source": [
    "## Show behavior of custom python interpreter"
   ]
  },
  {
   "cell_type": "code",
   "execution_count": null,
   "id": "d3b41636-2c5a-415d-b444-14be6087df6a",
   "metadata": {
    "height": 30
   },
   "outputs": [],
   "source": [
    "#!pip install git+https://github.com/huggingface/smolagents.git"
   ]
  },
  {
   "cell_type": "code",
   "execution_count": null,
   "id": "f9ff70b6-24a5-4063-aad8-74ca6f599b9e",
   "metadata": {
    "height": 64
   },
   "outputs": [],
   "source": [
    "from smolagents.local_python_executor import LocalPythonExecutor\n",
    "\n",
    "custom_executor = LocalPythonExecutor([\"numpy\"])"
   ]
  },
  {
   "cell_type": "code",
   "execution_count": null,
   "id": "41d1ce58-9d2e-4349-acbd-49227e37d31c",
   "metadata": {
    "height": 98
   },
   "outputs": [],
   "source": [
    "def run_capture_exception(command: str):\n",
    "    try:\n",
    "        custom_executor(harmful_command)\n",
    "    except Exception as e:\n",
    "        print(\"ERROR:\\n\", e)"
   ]
  },
  {
   "cell_type": "code",
   "execution_count": null,
   "id": "0f171b23-b3cc-48c9-a8ba-07358e271e63",
   "metadata": {
    "height": 64
   },
   "outputs": [],
   "source": [
    "# Example 1: non-defined command\n",
    "# In Jupyter it works\n",
    "!echo Bad command"
   ]
  },
  {
   "cell_type": "code",
   "execution_count": null,
   "id": "9e00efd4-d48d-4dac-b629-ab6a4c198b73",
   "metadata": {
    "height": 64
   },
   "outputs": [],
   "source": [
    "# In our interpreter, it does not.\n",
    "harmful_command=\"!echo Bad command\"\n",
    "run_capture_exception(harmful_command)"
   ]
  },
  {
   "cell_type": "code",
   "execution_count": null,
   "id": "be89931a-7150-47c9-8885-97a89f758430",
   "metadata": {
    "height": 251
   },
   "outputs": [],
   "source": [
    "[\n",
    "    're',\n",
    "    'queue',\n",
    "    'random',\n",
    "    'statistics',\n",
    "    'unicodedata',\n",
    "    'itertools',\n",
    "    'math',\n",
    "    'stat',\n",
    "    'time',\n",
    "    'datetime',\n",
    "    'collections',\n",
    "    'numpy'\n",
    "]"
   ]
  },
  {
   "cell_type": "code",
   "execution_count": null,
   "id": "cc73aa25-f14b-46d8-9a4d-10591f53d361",
   "metadata": {
    "height": 115
   },
   "outputs": [],
   "source": [
    "# Example 2: os not imported\n",
    "harmful_command=\"\"\"\n",
    "import os\n",
    "exit_code = os.system(\"echo Bad command\")\n",
    "\"\"\"\n",
    "run_capture_exception(harmful_command)"
   ]
  },
  {
   "cell_type": "code",
   "execution_count": null,
   "id": "24a1fcb0-2642-45c3-804d-59d3ca4df491",
   "metadata": {
    "height": 115
   },
   "outputs": [],
   "source": [
    "# Example 3: random._os.system not imported\n",
    "harmful_command=\"\"\"\n",
    "import random\n",
    "random._os.system('echo Bad command')\n",
    "\"\"\"\n",
    "run_capture_exception(harmful_command)"
   ]
  },
  {
   "cell_type": "code",
   "execution_count": null,
   "id": "0c5e88e2-630c-497b-842a-f1c694a1af56",
   "metadata": {
    "height": 115
   },
   "outputs": [],
   "source": [
    "# Example 4: infinite loop\n",
    "harmful_command=\"\"\"\n",
    "while True:\n",
    "    pass\n",
    "\"\"\"\n",
    "run_capture_exception(harmful_command)"
   ]
  },
  {
   "cell_type": "code",
   "execution_count": null,
   "id": "5d99f222-b67b-4eb9-b335-952b3b7a05dd",
   "metadata": {
    "height": 266
   },
   "outputs": [],
   "source": [
    "custom_executor = LocalPythonExecutor([\"PIL\"])\n",
    "\n",
    "harmful_command=\"\"\"\n",
    "from PIL import Image\n",
    "\n",
    "img = Image.new('RGB', (100, 100), color='blue')\n",
    "\n",
    "i=0\n",
    "while i < 10000:\n",
    "    img.save('simple_image_{i}.png')\n",
    "    i += 1\n",
    "\"\"\"\n",
    "# custom_executor(harmful_command)\n",
    "# Let's not execute this but it would not error out, and it would bloat your system with images."
   ]
  },
  {
   "cell_type": "markdown",
   "id": "d62ae77b-6140-4c6c-9eaa-2b2ac99a9d09",
   "metadata": {},
   "source": [
    "## Running in a sandbox"
   ]
  },
  {
   "cell_type": "code",
   "execution_count": null,
   "id": "05d52fa7-b538-4400-a342-224e6759c5eb",
   "metadata": {
    "height": 98
   },
   "outputs": [],
   "source": [
    "import os\n",
    "from dotenv import load_dotenv\n",
    "load_dotenv()\n",
    "\n",
    "E2B_API_KEY = os.getenv(\"E2B_API_KEY\")"
   ]
  },
  {
   "cell_type": "code",
   "execution_count": null,
   "id": "cbf486ce-2aa6-4133-a421-c6dbd7fe0f9f",
   "metadata": {
    "height": 963
   },
   "outputs": [],
   "source": [
    "from smolagents import CodeAgent, HfApiModel, Tool\n",
    "\n",
    "model = HfApiModel()\n",
    "\n",
    "class VisitWebpageTool(Tool):\n",
    "    name = \"visit_webpage\"\n",
    "    description = (\n",
    "        \"Visits a webpage at the given url and reads its content as a markdown string. Use this to browse webpages.\"\n",
    "    )\n",
    "    inputs = {\n",
    "        \"url\": {\n",
    "            \"type\": \"string\",\n",
    "            \"description\": \"The url of the webpage to visit.\",\n",
    "        }\n",
    "    }\n",
    "    output_type = \"string\"\n",
    "\n",
    "    def __init__(self, max_output_length: int = 40000):\n",
    "        super().__init__()\n",
    "        self.max_output_length = max_output_length\n",
    "\n",
    "    def forward(self, url: str) -> str:\n",
    "        try:\n",
    "            import re\n",
    "\n",
    "            import requests\n",
    "            from markdownify import markdownify\n",
    "            from requests.exceptions import RequestException\n",
    "\n",
    "            from smolagents.utils import truncate_content\n",
    "        except ImportError as e:\n",
    "            raise ImportError(\n",
    "                \"You must install packages `markdownify` and `requests` to run this tool: for instance run `pip install markdownify requests`.\"\n",
    "            ) from e\n",
    "        try:\n",
    "            response = requests.get(url, timeout=20)\n",
    "            response.raise_for_status()  # Raise an exception for bad status codes\n",
    "            markdown_content = markdownify(response.text).strip()\n",
    "            markdown_content = re.sub(r\"\\n{3,}\", \"\\n\\n\", markdown_content)\n",
    "            return truncate_content(markdown_content, self.max_output_length)\n",
    "\n",
    "        except requests.exceptions.Timeout:\n",
    "            return \"The request timed out. Please try again later or check the URL.\"\n",
    "        except RequestException as e:\n",
    "            return f\"Error fetching the webpage: {str(e)}\"\n",
    "        except Exception as e:\n",
    "            return f\"An unexpected error occurred: {str(e)}\"\n",
    "\n",
    "agent = CodeAgent(\n",
    "    tools=[VisitWebpageTool()],\n",
    "    model=model,\n",
    "    executor_type=\"e2b\",\n",
    "    executor_kwargs={\"api_key\": E2B_API_KEY},\n",
    "    max_steps=5\n",
    ")"
   ]
  },
  {
   "cell_type": "code",
   "execution_count": null,
   "id": "b43e76e3-c84d-4e19-8115-9c208f7c3398",
   "metadata": {
    "height": 81
   },
   "outputs": [],
   "source": [
    "output = agent.run(\n",
    "    \"Give me one of the top github repos from organization huggingface.\"\n",
    ")\n",
    "print(\"E2B executor result:\", output)"
   ]
  }
 ],
 "metadata": {
  "kernelspec": {
   "display_name": "Python 3 (ipykernel)",
   "language": "python",
   "name": "python3"
  },
  "language_info": {
   "codemirror_mode": {
    "name": "ipython",
    "version": 3
   },
   "file_extension": ".py",
   "mimetype": "text/x-python",
   "name": "python",
   "nbconvert_exporter": "python",
   "pygments_lexer": "ipython3",
   "version": "3.11.9"
  }
 },
 "nbformat": 4,
 "nbformat_minor": 5
}
